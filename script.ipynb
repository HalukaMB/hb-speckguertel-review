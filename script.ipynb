{
 "cells": [
  {
   "cell_type": "markdown",
   "metadata": {},
   "source": [
    "## Speckgürtel-Projekt"
   ]
  },
  {
   "cell_type": "markdown",
   "metadata": {},
   "source": [
    "### Import"
   ]
  },
  {
   "cell_type": "code",
   "execution_count": 9,
   "metadata": {},
   "outputs": [],
   "source": [
    "import pandas as pd\n",
    "import numpy as np\n",
    "import warnings\n",
    "from sklearn.preprocessing import StandardScaler\n",
    "\n",
    "warnings.simplefilter(action='ignore', category=FutureWarning)"
   ]
  },
  {
   "cell_type": "markdown",
   "metadata": {},
   "source": [
    "### Load"
   ]
  },
  {
   "cell_type": "code",
   "execution_count": 2,
   "metadata": {},
   "outputs": [
    {
     "data": {
      "text/html": [
       "<div>\n",
       "<style scoped>\n",
       "    .dataframe tbody tr th:only-of-type {\n",
       "        vertical-align: middle;\n",
       "    }\n",
       "\n",
       "    .dataframe tbody tr th {\n",
       "        vertical-align: top;\n",
       "    }\n",
       "\n",
       "    .dataframe thead th {\n",
       "        text-align: right;\n",
       "    }\n",
       "</style>\n",
       "<table border=\"1\" class=\"dataframe\">\n",
       "  <thead>\n",
       "    <tr style=\"text-align: right;\">\n",
       "      <th></th>\n",
       "      <th>id</th>\n",
       "      <th>name</th>\n",
       "      <th>metropole</th>\n",
       "      <th>preis</th>\n",
       "      <th>angebot</th>\n",
       "      <th>preis_entwicklung</th>\n",
       "      <th>angebot_entwicklung</th>\n",
       "      <th>autobahn</th>\n",
       "      <th>zug</th>\n",
       "      <th>supermarkt</th>\n",
       "      <th>pendler</th>\n",
       "      <th>schule</th>\n",
       "      <th>einwohner</th>\n",
       "    </tr>\n",
       "  </thead>\n",
       "  <tbody>\n",
       "    <tr>\n",
       "      <th>0</th>\n",
       "      <td>9173</td>\n",
       "      <td>Bad Tölz-Wolfratshausen</td>\n",
       "      <td>München</td>\n",
       "      <td>5689</td>\n",
       "      <td>391.0</td>\n",
       "      <td>0.067154</td>\n",
       "      <td>-0.055556</td>\n",
       "      <td>12.55</td>\n",
       "      <td>4.37</td>\n",
       "      <td>2.15</td>\n",
       "      <td>16.863591</td>\n",
       "      <td>75.390603</td>\n",
       "      <td>7.560664</td>\n",
       "    </tr>\n",
       "    <tr>\n",
       "      <th>1</th>\n",
       "      <td>12060</td>\n",
       "      <td>Barnim</td>\n",
       "      <td>Berlin</td>\n",
       "      <td>3317</td>\n",
       "      <td>535.0</td>\n",
       "      <td>-0.028697</td>\n",
       "      <td>-0.256944</td>\n",
       "      <td>6.81</td>\n",
       "      <td>2.96</td>\n",
       "      <td>2.58</td>\n",
       "      <td>41.134607</td>\n",
       "      <td>62.160062</td>\n",
       "      <td>11.307039</td>\n",
       "    </tr>\n",
       "    <tr>\n",
       "      <th>2</th>\n",
       "      <td>11000</td>\n",
       "      <td>Berlin</td>\n",
       "      <td>Berlin</td>\n",
       "      <td>5527</td>\n",
       "      <td>13095.0</td>\n",
       "      <td>0.008577</td>\n",
       "      <td>-0.259960</td>\n",
       "      <td>4.47</td>\n",
       "      <td>1.84</td>\n",
       "      <td>0.59</td>\n",
       "      <td>2.972945</td>\n",
       "      <td>58.087855</td>\n",
       "      <td>8.507855</td>\n",
       "    </tr>\n",
       "    <tr>\n",
       "      <th>3</th>\n",
       "      <td>5314</td>\n",
       "      <td>Bonn</td>\n",
       "      <td>Köln</td>\n",
       "      <td>3860</td>\n",
       "      <td>948.0</td>\n",
       "      <td>0.041273</td>\n",
       "      <td>-0.213278</td>\n",
       "      <td>2.36</td>\n",
       "      <td>2.40</td>\n",
       "      <td>0.72</td>\n",
       "      <td>13.774530</td>\n",
       "      <td>91.426461</td>\n",
       "      <td>3.811611</td>\n",
       "    </tr>\n",
       "    <tr>\n",
       "      <th>4</th>\n",
       "      <td>15084</td>\n",
       "      <td>Burgenlandkreis</td>\n",
       "      <td>Leipzig</td>\n",
       "      <td>1207</td>\n",
       "      <td>353.0</td>\n",
       "      <td>-0.009844</td>\n",
       "      <td>-0.386087</td>\n",
       "      <td>13.39</td>\n",
       "      <td>3.87</td>\n",
       "      <td>3.45</td>\n",
       "      <td>1.501034</td>\n",
       "      <td>60.392608</td>\n",
       "      <td>-5.838318</td>\n",
       "    </tr>\n",
       "  </tbody>\n",
       "</table>\n",
       "</div>"
      ],
      "text/plain": [
       "      id                     name metropole  preis  angebot  \\\n",
       "0   9173  Bad Tölz-Wolfratshausen   München   5689    391.0   \n",
       "1  12060                   Barnim    Berlin   3317    535.0   \n",
       "2  11000                   Berlin    Berlin   5527  13095.0   \n",
       "3   5314                     Bonn      Köln   3860    948.0   \n",
       "4  15084          Burgenlandkreis   Leipzig   1207    353.0   \n",
       "\n",
       "   preis_entwicklung  angebot_entwicklung  autobahn   zug  supermarkt  \\\n",
       "0           0.067154            -0.055556     12.55  4.37        2.15   \n",
       "1          -0.028697            -0.256944      6.81  2.96        2.58   \n",
       "2           0.008577            -0.259960      4.47  1.84        0.59   \n",
       "3           0.041273            -0.213278      2.36  2.40        0.72   \n",
       "4          -0.009844            -0.386087     13.39  3.87        3.45   \n",
       "\n",
       "     pendler     schule  einwohner  \n",
       "0  16.863591  75.390603   7.560664  \n",
       "1  41.134607  62.160062  11.307039  \n",
       "2   2.972945  58.087855   8.507855  \n",
       "3  13.774530  91.426461   3.811611  \n",
       "4   1.501034  60.392608  -5.838318  "
      ]
     },
     "execution_count": 2,
     "metadata": {},
     "output_type": "execute_result"
    }
   ],
   "source": [
    "# Load the CSV file into a DataFrame\n",
    "df = pd.read_csv('data/Gemergte Daten vorläufig.csv')\n",
    "\n",
    "df.columns = [\n",
    "    'id', 'name', 'metropole', 'preis', 'angebot', \n",
    "    'preis_entwicklung', 'angebot_entwicklung', \n",
    "    'autobahn', 'zug', 'supermarkt', \n",
    "    'pendler', 'schule', 'einwohner'\n",
    "]\n",
    "\n",
    "# Display the first few rows of the DataFrame to verify\n",
    "df.head(5)"
   ]
  },
  {
   "cell_type": "markdown",
   "metadata": {},
   "source": [
    "### Standardize"
   ]
  },
  {
   "cell_type": "markdown",
   "metadata": {},
   "source": [
    "Wir standisieren, um den Einfluss aller Features auf den Score anzugleichen. "
   ]
  },
  {
   "cell_type": "code",
   "execution_count": 3,
   "metadata": {},
   "outputs": [
    {
     "data": {
      "text/html": [
       "<div>\n",
       "<style scoped>\n",
       "    .dataframe tbody tr th:only-of-type {\n",
       "        vertical-align: middle;\n",
       "    }\n",
       "\n",
       "    .dataframe tbody tr th {\n",
       "        vertical-align: top;\n",
       "    }\n",
       "\n",
       "    .dataframe thead th {\n",
       "        text-align: right;\n",
       "    }\n",
       "</style>\n",
       "<table border=\"1\" class=\"dataframe\">\n",
       "  <thead>\n",
       "    <tr style=\"text-align: right;\">\n",
       "      <th></th>\n",
       "      <th>id</th>\n",
       "      <th>name</th>\n",
       "      <th>metropole</th>\n",
       "      <th>preis</th>\n",
       "      <th>angebot</th>\n",
       "      <th>preis_entwicklung</th>\n",
       "      <th>angebot_entwicklung</th>\n",
       "      <th>autobahn</th>\n",
       "      <th>zug</th>\n",
       "      <th>supermarkt</th>\n",
       "      <th>pendler</th>\n",
       "      <th>schule</th>\n",
       "      <th>einwohner</th>\n",
       "    </tr>\n",
       "  </thead>\n",
       "  <tbody>\n",
       "    <tr>\n",
       "      <th>0</th>\n",
       "      <td>9173</td>\n",
       "      <td>Bad Tölz-Wolfratshausen</td>\n",
       "      <td>München</td>\n",
       "      <td>1.427611</td>\n",
       "      <td>-0.551858</td>\n",
       "      <td>1.356903</td>\n",
       "      <td>2.887122</td>\n",
       "      <td>1.253145</td>\n",
       "      <td>0.928451</td>\n",
       "      <td>0.542582</td>\n",
       "      <td>-0.276065</td>\n",
       "      <td>0.814740</td>\n",
       "      <td>0.552805</td>\n",
       "    </tr>\n",
       "    <tr>\n",
       "      <th>1</th>\n",
       "      <td>12060</td>\n",
       "      <td>Barnim</td>\n",
       "      <td>Berlin</td>\n",
       "      <td>-0.323231</td>\n",
       "      <td>-0.462676</td>\n",
       "      <td>-1.637596</td>\n",
       "      <td>-0.042280</td>\n",
       "      <td>0.019196</td>\n",
       "      <td>-0.179864</td>\n",
       "      <td>1.015658</td>\n",
       "      <td>1.562459</td>\n",
       "      <td>-0.363979</td>\n",
       "      <td>1.535295</td>\n",
       "    </tr>\n",
       "    <tr>\n",
       "      <th>2</th>\n",
       "      <td>11000</td>\n",
       "      <td>Berlin</td>\n",
       "      <td>Berlin</td>\n",
       "      <td>1.308034</td>\n",
       "      <td>7.315987</td>\n",
       "      <td>-0.473129</td>\n",
       "      <td>-0.086150</td>\n",
       "      <td>-0.483843</td>\n",
       "      <td>-1.060228</td>\n",
       "      <td>-1.173695</td>\n",
       "      <td>-1.328278</td>\n",
       "      <td>-0.726775</td>\n",
       "      <td>0.801206</td>\n",
       "    </tr>\n",
       "    <tr>\n",
       "      <th>3</th>\n",
       "      <td>5314</td>\n",
       "      <td>Bonn</td>\n",
       "      <td>Köln</td>\n",
       "      <td>0.077573</td>\n",
       "      <td>-0.206897</td>\n",
       "      <td>0.548349</td>\n",
       "      <td>0.592892</td>\n",
       "      <td>-0.937437</td>\n",
       "      <td>-0.620046</td>\n",
       "      <td>-1.030672</td>\n",
       "      <td>-0.510061</td>\n",
       "      <td>2.243387</td>\n",
       "      <td>-0.430388</td>\n",
       "    </tr>\n",
       "    <tr>\n",
       "      <th>4</th>\n",
       "      <td>15084</td>\n",
       "      <td>Burgenlandkreis</td>\n",
       "      <td>Leipzig</td>\n",
       "      <td>-1.880683</td>\n",
       "      <td>-0.575392</td>\n",
       "      <td>-1.048614</td>\n",
       "      <td>-1.920786</td>\n",
       "      <td>1.433723</td>\n",
       "      <td>0.535432</td>\n",
       "      <td>1.972813</td>\n",
       "      <td>-1.439775</td>\n",
       "      <td>-0.521443</td>\n",
       "      <td>-2.961091</td>\n",
       "    </tr>\n",
       "  </tbody>\n",
       "</table>\n",
       "</div>"
      ],
      "text/plain": [
       "      id                     name metropole     preis   angebot  \\\n",
       "0   9173  Bad Tölz-Wolfratshausen   München  1.427611 -0.551858   \n",
       "1  12060                   Barnim    Berlin -0.323231 -0.462676   \n",
       "2  11000                   Berlin    Berlin  1.308034  7.315987   \n",
       "3   5314                     Bonn      Köln  0.077573 -0.206897   \n",
       "4  15084          Burgenlandkreis   Leipzig -1.880683 -0.575392   \n",
       "\n",
       "   preis_entwicklung  angebot_entwicklung  autobahn       zug  supermarkt  \\\n",
       "0           1.356903             2.887122  1.253145  0.928451    0.542582   \n",
       "1          -1.637596            -0.042280  0.019196 -0.179864    1.015658   \n",
       "2          -0.473129            -0.086150 -0.483843 -1.060228   -1.173695   \n",
       "3           0.548349             0.592892 -0.937437 -0.620046   -1.030672   \n",
       "4          -1.048614            -1.920786  1.433723  0.535432    1.972813   \n",
       "\n",
       "    pendler    schule  einwohner  \n",
       "0 -0.276065  0.814740   0.552805  \n",
       "1  1.562459 -0.363979   1.535295  \n",
       "2 -1.328278 -0.726775   0.801206  \n",
       "3 -0.510061  2.243387  -0.430388  \n",
       "4 -1.439775 -0.521443  -2.961091  "
      ]
     },
     "execution_count": 3,
     "metadata": {},
     "output_type": "execute_result"
    }
   ],
   "source": [
    "# Spalten, die standardisiert werden sollen\n",
    "columns_to_standardize = [\n",
    "    'preis', 'angebot', \n",
    "    'preis_entwicklung', 'angebot_entwicklung', \n",
    "    'autobahn', 'zug', 'supermarkt', \n",
    "    'pendler', 'schule', 'einwohner'\n",
    "]\n",
    "\n",
    "# Mittelwert und Standardabweichung der ursprünglichen Spalte berechnen\n",
    "original_mean = df['angebot'].mean()\n",
    "original_std = df['angebot'].std()\n",
    "\n",
    "# DataFrame kopieren\n",
    "df_scaled = df.copy()\n",
    "\n",
    "# Standardisierung durchführen\n",
    "scaler = StandardScaler()\n",
    "df_scaled[columns_to_standardize] = scaler.fit_transform(df[columns_to_standardize])\n",
    "\n",
    "# Ergebnis anzeigen\n",
    "df_scaled.head(5)"
   ]
  },
  {
   "cell_type": "markdown",
   "metadata": {},
   "source": [
    "### Save"
   ]
  },
  {
   "cell_type": "markdown",
   "metadata": {},
   "source": [
    "Die Datei soll an das Frontend geliefert werden. Noch nicht enthalten sind Min-, Median-, Max- und Varianz-Werte, die für die spätere Skalierung der User-Inputs nötig werden.  "
   ]
  },
  {
   "cell_type": "code",
   "execution_count": 4,
   "metadata": {},
   "outputs": [
    {
     "name": "stdout",
     "output_type": "stream",
     "text": [
      "DataFrame wurde erfolgreich als JSON gespeichert.\n"
     ]
    }
   ],
   "source": [
    "# DataFrame als JSON speichern\n",
    "df_scaled.to_json('export/data.json', orient='records', lines=True)\n",
    "\n",
    "print(\"DataFrame wurde erfolgreich als JSON gespeichert.\")"
   ]
  },
  {
   "cell_type": "markdown",
   "metadata": {},
   "source": [
    "### Calculation"
   ]
  },
  {
   "cell_type": "markdown",
   "metadata": {},
   "source": [
    "Hier wird eine später im Frontend stattfindende Berechnung des Scores aufgrund der User-Werte simuliert. Es dient als Anschauungsbeispiel für die Frontend-Programierung."
   ]
  },
  {
   "cell_type": "markdown",
   "metadata": {},
   "source": [
    "##### User Input"
   ]
  },
  {
   "cell_type": "markdown",
   "metadata": {},
   "source": [
    "Hier wird der User-Input defininert, wobei drei Inputtypen unterschieden werden: kontinuierliche Werte (Preis), kategoriale Werte (Angebot, Schule, Pendler) und kontinuierlich-gerichtete Werte (Autobahn, Zug, Supermarkt). "
   ]
  },
  {
   "cell_type": "code",
   "execution_count": null,
   "metadata": {},
   "outputs": [],
   "source": [
    "user_inputs = {\n",
    "    'preis': None, # integriert (Werte: Kontinuum)\n",
    "    'angebot': None, # integriert (Werte: Kategorie / -1, 0, 1)\n",
    "    'preis_entwicklung': None, # nicht integriert (Werte: unklar)\n",
    "    'angebot_entwicklung': None, # nicht integriert (Werte: unklar)\n",
    "    'autobahn': None, # nicht integriert (Werte: Kontinuum-Richtung)\n",
    "    'zug': None, # nicht integriert (Werte: Kontinuum-Richtung)\n",
    "    'supermarkt': None, # nicht integriert (Werte: Kontinuum-Richtung)\n",
    "    'pendler': None, # integriert (Werte: Kategorie / -1, 0, 1)\n",
    "    'schule': None, # integriert (Werte: Kategorie / -1, 0, 1)\n",
    "    'einwohner': -1 # integriert (Werte: Kategorie / -1, 0, 1)\n",
    "}\n",
    "\n",
    "# Anzahl der gültigen Inputs\n",
    "valid_inputs = {key: value for key, value in user_inputs.items() if value is not None}\n",
    "anzahl_der_inputs = len(valid_inputs)"
   ]
  },
  {
   "cell_type": "markdown",
   "metadata": {},
   "source": [
    "##### Scaling of User Input"
   ]
  },
  {
   "cell_type": "markdown",
   "metadata": {},
   "source": [
    "Bei kontinuerlich und kontinuerlich-gerichteten Inputs müssen die User-Inputs komplett bzw. teilweise mit den Varianz-Werten der vorherigen Skalierung skaliert werden. Die dafür notwendigen Werte müssen dem JSON entnommen werden. Kategoriale Inputs und Richt-Werte des kontinuerlich-gerichteten Inputtypen dürfen nicht skaliert werden. "
   ]
  },
  {
   "cell_type": "code",
   "execution_count": 273,
   "metadata": {},
   "outputs": [
    {
     "name": "stdout",
     "output_type": "stream",
     "text": [
      "Skalierte User-Inputs:\n",
      "einwohner: -1\n"
     ]
    }
   ],
   "source": [
    "# Skalierte User-Inputs berechnen mit StandardScaler\n",
    "scaled_inputs = {}\n",
    "for column, user_value in valid_inputs.items():\n",
    "    if column in columns_to_standardize and column not in ['angebot', 'schule', 'pendler', 'einwohner']:  # 'schule' und 'pendler' von der Skalierung ausschließen\n",
    "        # Index der Spalte im StandardScaler\n",
    "        column_index = columns_to_standardize.index(column)\n",
    "        # Skalierung des User-Inputs mit den gespeicherten Mittelwerten und Varianzen\n",
    "        scaled_inputs[column] = (user_value - scaler.mean_[column_index]) / np.sqrt(scaler.var_[column_index])\n",
    "    else:\n",
    "        # Für 'schule' und 'pendler' den User-Input direkt übernehmen (unskaliert)\n",
    "        scaled_inputs[column] = user_value\n",
    "\n",
    "# Ergebnis anzeigen\n",
    "print(\"Skalierte User-Inputs:\")\n",
    "for column, scaled_value in scaled_inputs.items():\n",
    "    print(f\"{column}: {scaled_value}\")"
   ]
  },
  {
   "cell_type": "markdown",
   "metadata": {},
   "source": [
    "##### Score Calculation & Normalization"
   ]
  },
  {
   "cell_type": "markdown",
   "metadata": {},
   "source": [
    "Bei der Berechnung des Scores wird nach den drei Input-Typen unterschieden. Bisher intergriert sind kontinuerliche und kategoriale Inputs. Es fehlt der kontinuierlich-gerichtete Typus. Im Anschluss wird der Score normiert, wobei 1 der Bestwert ist, um eine Vergleichbarkeit zu ermöglichen. "
   ]
  },
  {
   "cell_type": "code",
   "execution_count": 274,
   "metadata": {},
   "outputs": [
    {
     "data": {
      "text/html": [
       "<div>\n",
       "<style scoped>\n",
       "    .dataframe tbody tr th:only-of-type {\n",
       "        vertical-align: middle;\n",
       "    }\n",
       "\n",
       "    .dataframe tbody tr th {\n",
       "        vertical-align: top;\n",
       "    }\n",
       "\n",
       "    .dataframe thead th {\n",
       "        text-align: right;\n",
       "    }\n",
       "</style>\n",
       "<table border=\"1\" class=\"dataframe\">\n",
       "  <thead>\n",
       "    <tr style=\"text-align: right;\">\n",
       "      <th></th>\n",
       "      <th>id</th>\n",
       "      <th>angebot</th>\n",
       "      <th>schule</th>\n",
       "      <th>pendler</th>\n",
       "      <th>einwohner</th>\n",
       "      <th>score</th>\n",
       "      <th>score_normalized</th>\n",
       "    </tr>\n",
       "  </thead>\n",
       "  <tbody>\n",
       "    <tr>\n",
       "      <th>0</th>\n",
       "      <td>9173</td>\n",
       "      <td>-0.551858</td>\n",
       "      <td>0.814740</td>\n",
       "      <td>-0.276065</td>\n",
       "      <td>0.552805</td>\n",
       "      <td>-0.186690</td>\n",
       "      <td>0.406488</td>\n",
       "    </tr>\n",
       "    <tr>\n",
       "      <th>1</th>\n",
       "      <td>12060</td>\n",
       "      <td>-0.462676</td>\n",
       "      <td>-0.363979</td>\n",
       "      <td>1.562459</td>\n",
       "      <td>1.535295</td>\n",
       "      <td>-0.518490</td>\n",
       "      <td>0.240542</td>\n",
       "    </tr>\n",
       "    <tr>\n",
       "      <th>2</th>\n",
       "      <td>11000</td>\n",
       "      <td>7.315987</td>\n",
       "      <td>-0.726775</td>\n",
       "      <td>-1.328278</td>\n",
       "      <td>0.801206</td>\n",
       "      <td>-0.270578</td>\n",
       "      <td>0.364532</td>\n",
       "    </tr>\n",
       "    <tr>\n",
       "      <th>3</th>\n",
       "      <td>5314</td>\n",
       "      <td>-0.206897</td>\n",
       "      <td>2.243387</td>\n",
       "      <td>-0.510061</td>\n",
       "      <td>-0.430388</td>\n",
       "      <td>0.145348</td>\n",
       "      <td>0.572554</td>\n",
       "    </tr>\n",
       "    <tr>\n",
       "      <th>4</th>\n",
       "      <td>15084</td>\n",
       "      <td>-0.575392</td>\n",
       "      <td>-0.521443</td>\n",
       "      <td>-1.439775</td>\n",
       "      <td>-2.961091</td>\n",
       "      <td>1.000000</td>\n",
       "      <td>1.000000</td>\n",
       "    </tr>\n",
       "  </tbody>\n",
       "</table>\n",
       "</div>"
      ],
      "text/plain": [
       "      id   angebot    schule   pendler  einwohner     score  score_normalized\n",
       "0   9173 -0.551858  0.814740 -0.276065   0.552805 -0.186690          0.406488\n",
       "1  12060 -0.462676 -0.363979  1.562459   1.535295 -0.518490          0.240542\n",
       "2  11000  7.315987 -0.726775 -1.328278   0.801206 -0.270578          0.364532\n",
       "3   5314 -0.206897  2.243387 -0.510061  -0.430388  0.145348          0.572554\n",
       "4  15084 -0.575392 -0.521443 -1.439775  -2.961091  1.000000          1.000000"
      ]
     },
     "execution_count": 274,
     "metadata": {},
     "output_type": "execute_result"
    }
   ],
   "source": [
    "# Formel anwenden\n",
    "df_scaled['score'] = 1 - sum(\n",
    "    (\n",
    "        # Sonderbehandlung für die Spalten 'schule' und 'pendler'\n",
    "        abs(df_scaled[column] - df_scaled[column].median()) \n",
    "        if column in ['angebot', 'schule', 'pendler', 'einwohner'] and scaled_inputs[column] == 0 else\n",
    "        (df_scaled[column] - df_scaled[column].min()) / -(df_scaled[column].min())  \n",
    "        if column in ['angebot', 'schule', 'pendler', 'einwohner'] and scaled_inputs[column] == -1 else\n",
    "        (df_scaled[column] - df_scaled[column].max()) / -(df_scaled[column].max())  \n",
    "        if column in ['angebot', 'schule', 'pendler', 'einwohner'] and scaled_inputs[column] == 1 else\n",
    "        # Standardberechnung für andere Spalten\n",
    "        abs((df_scaled[column] - scaled_inputs[column])) / -(scaled_inputs[column])\n",
    "    )\n",
    "    for column in scaled_inputs\n",
    ") / anzahl_der_inputs\n",
    "\n",
    "# Min-Max-Normalisierung des Scores\n",
    "score_min = df_scaled['score'].min()\n",
    "score_max = df_scaled['score'].max()\n",
    "df_scaled['score_normalized'] = (df_scaled['score'] - score_min) / (score_max - score_min)\n",
    "\n",
    "# Ergebnis anzeigen\n",
    "df_scaled[['id', 'angebot', 'schule', 'pendler', 'einwohner', 'score', 'score_normalized']].head()"
   ]
  },
  {
   "cell_type": "code",
   "execution_count": null,
   "metadata": {},
   "outputs": [],
   "source": []
  }
 ],
 "metadata": {
  "kernelspec": {
   "display_name": "3.11.3",
   "language": "python",
   "name": "python3"
  },
  "language_info": {
   "codemirror_mode": {
    "name": "ipython",
    "version": 3
   },
   "file_extension": ".py",
   "mimetype": "text/x-python",
   "name": "python",
   "nbconvert_exporter": "python",
   "pygments_lexer": "ipython3",
   "version": "3.11.3"
  }
 },
 "nbformat": 4,
 "nbformat_minor": 2
}
