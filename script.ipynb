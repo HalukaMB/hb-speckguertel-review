{
 "cells": [
  {
   "cell_type": "markdown",
   "metadata": {},
   "source": [
    "## Speckgürtel-Projekt"
   ]
  },
  {
   "cell_type": "markdown",
   "metadata": {},
   "source": [
    "### Import"
   ]
  },
  {
   "cell_type": "code",
   "execution_count": 1,
   "metadata": {},
   "outputs": [],
   "source": [
    "import pandas as pd\n",
    "import numpy as np\n",
    "import warnings\n",
    "from sklearn.preprocessing import StandardScaler\n",
    "\n",
    "warnings.simplefilter(action='ignore', category=FutureWarning)"
   ]
  },
  {
   "cell_type": "markdown",
   "metadata": {},
   "source": [
    "### Load"
   ]
  },
  {
   "cell_type": "code",
   "execution_count": 2,
   "metadata": {},
   "outputs": [
    {
     "data": {
      "text/html": [
       "<div>\n",
       "<style scoped>\n",
       "    .dataframe tbody tr th:only-of-type {\n",
       "        vertical-align: middle;\n",
       "    }\n",
       "\n",
       "    .dataframe tbody tr th {\n",
       "        vertical-align: top;\n",
       "    }\n",
       "\n",
       "    .dataframe thead th {\n",
       "        text-align: right;\n",
       "    }\n",
       "</style>\n",
       "<table border=\"1\" class=\"dataframe\">\n",
       "  <thead>\n",
       "    <tr style=\"text-align: right;\">\n",
       "      <th></th>\n",
       "      <th>id</th>\n",
       "      <th>name</th>\n",
       "      <th>metropole</th>\n",
       "      <th>preis</th>\n",
       "      <th>angebot</th>\n",
       "      <th>preis_entwicklung</th>\n",
       "      <th>angebot_entwicklung</th>\n",
       "      <th>autobahn</th>\n",
       "      <th>zug</th>\n",
       "      <th>supermarkt</th>\n",
       "      <th>pendler</th>\n",
       "      <th>schule</th>\n",
       "      <th>einwohner</th>\n",
       "    </tr>\n",
       "  </thead>\n",
       "  <tbody>\n",
       "    <tr>\n",
       "      <th>0</th>\n",
       "      <td>9173</td>\n",
       "      <td>Bad Tölz-Wolfratshausen</td>\n",
       "      <td>München</td>\n",
       "      <td>5689</td>\n",
       "      <td>391.0</td>\n",
       "      <td>0.067154</td>\n",
       "      <td>-0.055556</td>\n",
       "      <td>12.55</td>\n",
       "      <td>4.37</td>\n",
       "      <td>2.15</td>\n",
       "      <td>16.863591</td>\n",
       "      <td>75.390603</td>\n",
       "      <td>7.560664</td>\n",
       "    </tr>\n",
       "    <tr>\n",
       "      <th>1</th>\n",
       "      <td>12060</td>\n",
       "      <td>Barnim</td>\n",
       "      <td>Berlin</td>\n",
       "      <td>3317</td>\n",
       "      <td>535.0</td>\n",
       "      <td>-0.028697</td>\n",
       "      <td>-0.256944</td>\n",
       "      <td>6.81</td>\n",
       "      <td>2.96</td>\n",
       "      <td>2.58</td>\n",
       "      <td>41.134607</td>\n",
       "      <td>62.160062</td>\n",
       "      <td>11.307039</td>\n",
       "    </tr>\n",
       "    <tr>\n",
       "      <th>2</th>\n",
       "      <td>11000</td>\n",
       "      <td>Berlin</td>\n",
       "      <td>Berlin</td>\n",
       "      <td>5527</td>\n",
       "      <td>13095.0</td>\n",
       "      <td>0.008577</td>\n",
       "      <td>-0.259960</td>\n",
       "      <td>4.47</td>\n",
       "      <td>1.84</td>\n",
       "      <td>0.59</td>\n",
       "      <td>2.972945</td>\n",
       "      <td>58.087855</td>\n",
       "      <td>8.507855</td>\n",
       "    </tr>\n",
       "    <tr>\n",
       "      <th>3</th>\n",
       "      <td>5314</td>\n",
       "      <td>Bonn</td>\n",
       "      <td>Köln</td>\n",
       "      <td>3860</td>\n",
       "      <td>948.0</td>\n",
       "      <td>0.041273</td>\n",
       "      <td>-0.213278</td>\n",
       "      <td>2.36</td>\n",
       "      <td>2.40</td>\n",
       "      <td>0.72</td>\n",
       "      <td>13.774530</td>\n",
       "      <td>91.426461</td>\n",
       "      <td>3.811611</td>\n",
       "    </tr>\n",
       "    <tr>\n",
       "      <th>4</th>\n",
       "      <td>15084</td>\n",
       "      <td>Burgenlandkreis</td>\n",
       "      <td>Leipzig</td>\n",
       "      <td>1207</td>\n",
       "      <td>353.0</td>\n",
       "      <td>-0.009844</td>\n",
       "      <td>-0.386087</td>\n",
       "      <td>13.39</td>\n",
       "      <td>3.87</td>\n",
       "      <td>3.45</td>\n",
       "      <td>1.501034</td>\n",
       "      <td>60.392608</td>\n",
       "      <td>-5.838318</td>\n",
       "    </tr>\n",
       "  </tbody>\n",
       "</table>\n",
       "</div>"
      ],
      "text/plain": [
       "      id                     name metropole  preis  angebot  \\\n",
       "0   9173  Bad Tölz-Wolfratshausen   München   5689    391.0   \n",
       "1  12060                   Barnim    Berlin   3317    535.0   \n",
       "2  11000                   Berlin    Berlin   5527  13095.0   \n",
       "3   5314                     Bonn      Köln   3860    948.0   \n",
       "4  15084          Burgenlandkreis   Leipzig   1207    353.0   \n",
       "\n",
       "   preis_entwicklung  angebot_entwicklung  autobahn   zug  supermarkt  \\\n",
       "0           0.067154            -0.055556     12.55  4.37        2.15   \n",
       "1          -0.028697            -0.256944      6.81  2.96        2.58   \n",
       "2           0.008577            -0.259960      4.47  1.84        0.59   \n",
       "3           0.041273            -0.213278      2.36  2.40        0.72   \n",
       "4          -0.009844            -0.386087     13.39  3.87        3.45   \n",
       "\n",
       "     pendler     schule  einwohner  \n",
       "0  16.863591  75.390603   7.560664  \n",
       "1  41.134607  62.160062  11.307039  \n",
       "2   2.972945  58.087855   8.507855  \n",
       "3  13.774530  91.426461   3.811611  \n",
       "4   1.501034  60.392608  -5.838318  "
      ]
     },
     "execution_count": 2,
     "metadata": {},
     "output_type": "execute_result"
    }
   ],
   "source": [
    "# Load the CSV file into a DataFrame\n",
    "df = pd.read_csv('data/Gemergte Daten vorläufig.csv')\n",
    "\n",
    "df.columns = [\n",
    "    'id', 'name', 'metropole', 'preis', 'angebot', \n",
    "    'preis_entwicklung', 'angebot_entwicklung', \n",
    "    'autobahn', 'zug', 'supermarkt', \n",
    "    'pendler', 'schule', 'einwohner'\n",
    "]\n",
    "\n",
    "# Display the first few rows of the DataFrame to verify\n",
    "df.head(5)"
   ]
  },
  {
   "cell_type": "markdown",
   "metadata": {},
   "source": [
    "### Standardize"
   ]
  },
  {
   "cell_type": "markdown",
   "metadata": {},
   "source": [
    "Wir standisieren, um den Einfluss aller Features auf den Score anzugleichen. "
   ]
  },
  {
   "cell_type": "code",
   "execution_count": 24,
   "metadata": {},
   "outputs": [
    {
     "data": {
      "text/html": [
       "<div>\n",
       "<style scoped>\n",
       "    .dataframe tbody tr th:only-of-type {\n",
       "        vertical-align: middle;\n",
       "    }\n",
       "\n",
       "    .dataframe tbody tr th {\n",
       "        vertical-align: top;\n",
       "    }\n",
       "\n",
       "    .dataframe thead th {\n",
       "        text-align: right;\n",
       "    }\n",
       "</style>\n",
       "<table border=\"1\" class=\"dataframe\">\n",
       "  <thead>\n",
       "    <tr style=\"text-align: right;\">\n",
       "      <th></th>\n",
       "      <th>id</th>\n",
       "      <th>name</th>\n",
       "      <th>metropole</th>\n",
       "      <th>preis</th>\n",
       "      <th>angebot</th>\n",
       "      <th>preis_entwicklung</th>\n",
       "      <th>angebot_entwicklung</th>\n",
       "      <th>autobahn</th>\n",
       "      <th>zug</th>\n",
       "      <th>supermarkt</th>\n",
       "      <th>pendler</th>\n",
       "      <th>schule</th>\n",
       "      <th>einwohner</th>\n",
       "    </tr>\n",
       "  </thead>\n",
       "  <tbody>\n",
       "    <tr>\n",
       "      <th>0</th>\n",
       "      <td>9173</td>\n",
       "      <td>Bad Tölz-Wolfratshausen</td>\n",
       "      <td>München</td>\n",
       "      <td>1.427611</td>\n",
       "      <td>-0.551858</td>\n",
       "      <td>1.356903</td>\n",
       "      <td>2.887122</td>\n",
       "      <td>1.253145</td>\n",
       "      <td>0.928451</td>\n",
       "      <td>0.542582</td>\n",
       "      <td>-0.276065</td>\n",
       "      <td>0.814740</td>\n",
       "      <td>0.552805</td>\n",
       "    </tr>\n",
       "    <tr>\n",
       "      <th>1</th>\n",
       "      <td>12060</td>\n",
       "      <td>Barnim</td>\n",
       "      <td>Berlin</td>\n",
       "      <td>-0.323231</td>\n",
       "      <td>-0.462676</td>\n",
       "      <td>-1.637596</td>\n",
       "      <td>-0.042280</td>\n",
       "      <td>0.019196</td>\n",
       "      <td>-0.179864</td>\n",
       "      <td>1.015658</td>\n",
       "      <td>1.562459</td>\n",
       "      <td>-0.363979</td>\n",
       "      <td>1.535295</td>\n",
       "    </tr>\n",
       "    <tr>\n",
       "      <th>2</th>\n",
       "      <td>11000</td>\n",
       "      <td>Berlin</td>\n",
       "      <td>Berlin</td>\n",
       "      <td>1.308034</td>\n",
       "      <td>7.315987</td>\n",
       "      <td>-0.473129</td>\n",
       "      <td>-0.086150</td>\n",
       "      <td>-0.483843</td>\n",
       "      <td>-1.060228</td>\n",
       "      <td>-1.173695</td>\n",
       "      <td>-1.328278</td>\n",
       "      <td>-0.726775</td>\n",
       "      <td>0.801206</td>\n",
       "    </tr>\n",
       "    <tr>\n",
       "      <th>3</th>\n",
       "      <td>5314</td>\n",
       "      <td>Bonn</td>\n",
       "      <td>Köln</td>\n",
       "      <td>0.077573</td>\n",
       "      <td>-0.206897</td>\n",
       "      <td>0.548349</td>\n",
       "      <td>0.592892</td>\n",
       "      <td>-0.937437</td>\n",
       "      <td>-0.620046</td>\n",
       "      <td>-1.030672</td>\n",
       "      <td>-0.510061</td>\n",
       "      <td>2.243387</td>\n",
       "      <td>-0.430388</td>\n",
       "    </tr>\n",
       "    <tr>\n",
       "      <th>4</th>\n",
       "      <td>15084</td>\n",
       "      <td>Burgenlandkreis</td>\n",
       "      <td>Leipzig</td>\n",
       "      <td>-1.880683</td>\n",
       "      <td>-0.575392</td>\n",
       "      <td>-1.048614</td>\n",
       "      <td>-1.920786</td>\n",
       "      <td>1.433723</td>\n",
       "      <td>0.535432</td>\n",
       "      <td>1.972813</td>\n",
       "      <td>-1.439775</td>\n",
       "      <td>-0.521443</td>\n",
       "      <td>-2.961091</td>\n",
       "    </tr>\n",
       "  </tbody>\n",
       "</table>\n",
       "</div>"
      ],
      "text/plain": [
       "      id                     name metropole     preis   angebot  \\\n",
       "0   9173  Bad Tölz-Wolfratshausen   München  1.427611 -0.551858   \n",
       "1  12060                   Barnim    Berlin -0.323231 -0.462676   \n",
       "2  11000                   Berlin    Berlin  1.308034  7.315987   \n",
       "3   5314                     Bonn      Köln  0.077573 -0.206897   \n",
       "4  15084          Burgenlandkreis   Leipzig -1.880683 -0.575392   \n",
       "\n",
       "   preis_entwicklung  angebot_entwicklung  autobahn       zug  supermarkt  \\\n",
       "0           1.356903             2.887122  1.253145  0.928451    0.542582   \n",
       "1          -1.637596            -0.042280  0.019196 -0.179864    1.015658   \n",
       "2          -0.473129            -0.086150 -0.483843 -1.060228   -1.173695   \n",
       "3           0.548349             0.592892 -0.937437 -0.620046   -1.030672   \n",
       "4          -1.048614            -1.920786  1.433723  0.535432    1.972813   \n",
       "\n",
       "    pendler    schule  einwohner  \n",
       "0 -0.276065  0.814740   0.552805  \n",
       "1  1.562459 -0.363979   1.535295  \n",
       "2 -1.328278 -0.726775   0.801206  \n",
       "3 -0.510061  2.243387  -0.430388  \n",
       "4 -1.439775 -0.521443  -2.961091  "
      ]
     },
     "execution_count": 24,
     "metadata": {},
     "output_type": "execute_result"
    }
   ],
   "source": [
    "# Spalten, die standardisiert werden sollen\n",
    "columns_to_standardize = [\n",
    "    'preis', 'angebot', \n",
    "    'preis_entwicklung', 'angebot_entwicklung', \n",
    "    'autobahn', 'zug', 'supermarkt', \n",
    "    'pendler', 'schule', 'einwohner'\n",
    "]\n",
    "\n",
    "# DataFrame kopieren\n",
    "df_scaled = df.copy()\n",
    "\n",
    "# Standardisierung durchführen\n",
    "scaler = StandardScaler()\n",
    "df_scaled[columns_to_standardize] = scaler.fit_transform(df[columns_to_standardize])\n",
    "\n",
    "# Ergebnis anzeigen\n",
    "df_scaled.head(5)"
   ]
  },
  {
   "cell_type": "markdown",
   "metadata": {},
   "source": [
    "### Save"
   ]
  },
  {
   "cell_type": "markdown",
   "metadata": {},
   "source": [
    "Die Datei soll an das Frontend geliefert werden. Noch nicht enthalten sind Min-, Median-, Max- und Varianz-Werte, die für die spätere Skalierung der User-Inputs nötig werden.  "
   ]
  },
  {
   "cell_type": "code",
   "execution_count": 4,
   "metadata": {},
   "outputs": [
    {
     "name": "stdout",
     "output_type": "stream",
     "text": [
      "DataFrame wurde erfolgreich als JSON gespeichert.\n"
     ]
    }
   ],
   "source": [
    "# DataFrame als JSON speichern\n",
    "df_scaled.to_json('export/data.json', orient='records', lines=True)\n",
    "\n",
    "print(\"DataFrame wurde erfolgreich als JSON gespeichert.\")"
   ]
  },
  {
   "cell_type": "markdown",
   "metadata": {},
   "source": [
    "### Calculation"
   ]
  },
  {
   "cell_type": "markdown",
   "metadata": {},
   "source": [
    "Hier wird eine später im Frontend stattfindende Berechnung des Scores aufgrund der User-Werte simuliert. Es dient als Anschauungsbeispiel für die Frontend-Programierung."
   ]
  },
  {
   "cell_type": "markdown",
   "metadata": {},
   "source": [
    "##### User Input"
   ]
  },
  {
   "cell_type": "markdown",
   "metadata": {},
   "source": [
    "Hier wird der User-Input defininert, wobei drei Inputtypen unterschieden werden: kontinuierliche Werte (Preis), kategoriale Werte (Angebot, Schule, Pendler) und kontinuierlich-gerichtete Werte (Autobahn, Zug, Supermarkt). "
   ]
  },
  {
   "cell_type": "markdown",
   "metadata": {},
   "source": [
    "Erklärung: \"None\" bedeutet, dass diese Variable vom User nicht gesetzt wurde und in der Berechnung nicht berücksichtigt wird. Kontinuum-Werte können jeden erdenklichen Wert annehmen. Kategorie-Werte könenn -1, 0 und 1 sein, die für die klickbaren Label im Interface stehen (z.B. \"fallend\", \"neutral\" und \"steigend\"). "
   ]
  },
  {
   "cell_type": "code",
   "execution_count": 44,
   "metadata": {},
   "outputs": [
    {
     "data": {
      "text/plain": [
       "1"
      ]
     },
     "execution_count": 44,
     "metadata": {},
     "output_type": "execute_result"
    }
   ],
   "source": [
    "user_inputs = {\n",
    "    'preis': None, # integriert (Werte: Kontinuum)\n",
    "    'angebot': None, # integriert (Werte: Kategorie / -1, 0, 1)\n",
    "    'preis_entwicklung': None, # integriert (Werte: Kategorie / -1, 0, 1)\n",
    "    'angebot_entwicklung': None, # integriert (Werte: Kategorie / -1, 0, 1)\n",
    "    'autobahn': None, # NICHT integriert (Werte: Kontinuum-Richtung)\n",
    "    'zug': None, # NICHT integriert (Werte: Kontinuum-Richtung)\n",
    "    'supermarkt': [-1, 1], # NICHT integriert (Werte: Kontinuum-Richtung)\n",
    "    'pendler': None, # integriert (Werte: Kategorie / -1, 0, 1)\n",
    "    'schule': None, # integriert (Werte: Kategorie / -1, 0, 1)\n",
    "    'einwohner': None # integriert (Werte: Kategorie / -1, 0, 1)\n",
    "}\n",
    "\n",
    "# Anzahl der gültigen Inputs\n",
    "valid_inputs = {key: value for key, value in user_inputs.items() if value is not None}\n",
    "anzahl_der_inputs = len(valid_inputs)\n",
    "anzahl_der_inputs"
   ]
  },
  {
   "cell_type": "markdown",
   "metadata": {},
   "source": [
    "##### Scaling of User Input"
   ]
  },
  {
   "cell_type": "markdown",
   "metadata": {},
   "source": [
    "Bei kontinuerlich und kontinuerlich-gerichteten Inputs müssen die User-Inputs komplett bzw. teilweise mit den Varianz-Werten der vorherigen Skalierung skaliert werden. Die dafür notwendigen Werte müssen dem JSON entnommen werden. Kategoriale Inputs und Richt-Werte des kontinuerlich-gerichteten Inputtypen dürfen nicht skaliert werden. "
   ]
  },
  {
   "cell_type": "code",
   "execution_count": null,
   "metadata": {},
   "outputs": [
    {
     "name": "stdout",
     "output_type": "stream",
     "text": [
      "Skalierte User-Inputs:\n",
      "supermarkt: [-1, np.float64(-0.722622602781092)]\n"
     ]
    }
   ],
   "source": [
    "# Skalierte User-Inputs berechnen mit StandardScaler\n",
    "scaled_inputs = {}\n",
    "for column, user_value in valid_inputs.items():\n",
    "    if column in columns_to_standardize and column not in ['angebot', 'preis_entwicklung', 'angebot_entwicklung', 'schule', 'pendler', 'einwohner']:  # 'schule' und 'pendler' von der Skalierung ausschließen\n",
    "        # Index der Spalte im StandardScaler\n",
    "        column_index = columns_to_standardize.index(column)\n",
    "        # Skalierung des User-Inputs mit den gespeicherten Mittelwerten und Varianzen\n",
    "        scaled_inputs[column] = (user_value - scaler.mean_[column_index]) / np.sqrt(scaler.var_[column_index])\n",
    "    else:\n",
    "        # Für Kategoriale und Richt-Werte den User-Input direkt übernehmen (unskaliert)\n",
    "        scaled_inputs[column] = user_value\n",
    "\n",
    "# Ergebnis anzeigen\n",
    "print(\"Skalierte User-Inputs:\")\n",
    "for column, scaled_value in scaled_inputs.items():\n",
    "    print(f\"{column}: {scaled_value}\")"
   ]
  },
  {
   "cell_type": "markdown",
   "metadata": {},
   "source": [
    "Variante mit zweiteiligem Supermarkt"
   ]
  },
  {
   "cell_type": "code",
   "execution_count": null,
   "metadata": {},
   "outputs": [],
   "source": [
    "# Skalierte User-Inputs berechnen mit StandardScaler\n",
    "scaled_inputs = {}\n",
    "for column, user_value in valid_inputs.items():\n",
    "    if column == 'supermarkt' and isinstance(user_value, list) and len(user_value) == 2:\n",
    "        # Scale only the second value of 'supermarkt'\n",
    "        column_index = columns_to_standardize.index(column)\n",
    "        scaled_second_value = (user_value[1] - scaler.mean_[column_index]) / np.sqrt(scaler.var_[column_index])\n",
    "        scaled_inputs[column] = [user_value[0], scaled_second_value]  # Keep the first value unscaled\n",
    "    elif column in columns_to_standardize and column not in ['angebot', 'preis_entwicklung', 'angebot_entwicklung', 'schule', 'pendler', 'einwohner']:\n",
    "        # Scale other continuous values\n",
    "        column_index = columns_to_standardize.index(column)\n",
    "        scaled_inputs[column] = (user_value - scaler.mean_[column_index]) / np.sqrt(scaler.var_[column_index])\n",
    "    else:\n",
    "        # For categorical and unscaled values, keep them as is\n",
    "        scaled_inputs[column] = user_value\n",
    "\n",
    "# Ergebnis anzeigen\n",
    "print(\"Skalierte User-Inputs:\")\n",
    "for column, scaled_value in scaled_inputs.items():\n",
    "    print(f\"{column}: {scaled_value}\")"
   ]
  },
  {
   "cell_type": "markdown",
   "metadata": {},
   "source": [
    "##### Score Calculation & Normalization"
   ]
  },
  {
   "cell_type": "markdown",
   "metadata": {},
   "source": [
    "Bei der Berechnung des Scores wird nach den drei Input-Typen unterschieden. Bisher intergriert sind kontinuerliche und kategoriale Inputs. Es fehlt der kontinuierlich-gerichtete Typus. Im Anschluss wird der Score normiert, wobei 1 der Bestwert ist, um eine Vergleichbarkeit zu ermöglichen. "
   ]
  },
  {
   "cell_type": "code",
   "execution_count": 47,
   "metadata": {},
   "outputs": [
    {
     "ename": "ValueError",
     "evalue": "operands could not be broadcast together with shapes (85,) (2,) ",
     "output_type": "error",
     "traceback": [
      "\u001b[31m---------------------------------------------------------------------------\u001b[39m",
      "\u001b[31mValueError\u001b[39m                                Traceback (most recent call last)",
      "\u001b[36mCell\u001b[39m\u001b[36m \u001b[39m\u001b[32mIn[47]\u001b[39m\u001b[32m, line 2\u001b[39m\n\u001b[32m      1\u001b[39m \u001b[38;5;66;03m# Formel anwenden\u001b[39;00m\n\u001b[32m----> \u001b[39m\u001b[32m2\u001b[39m df_scaled[\u001b[33m'\u001b[39m\u001b[33mscore\u001b[39m\u001b[33m'\u001b[39m] = \u001b[32m1\u001b[39m - \u001b[38;5;28;43msum\u001b[39;49m\u001b[43m(\u001b[49m\n\u001b[32m      3\u001b[39m \u001b[43m    \u001b[49m\u001b[43m(\u001b[49m\n\u001b[32m      4\u001b[39m \u001b[43m        \u001b[49m\u001b[38;5;66;43;03m# Sonderbehandlung für die Spalten 'schule' und 'pendler'\u001b[39;49;00m\n\u001b[32m      5\u001b[39m \u001b[43m        \u001b[49m\u001b[38;5;28;43mabs\u001b[39;49m\u001b[43m(\u001b[49m\u001b[43mdf_scaled\u001b[49m\u001b[43m[\u001b[49m\u001b[43mcolumn\u001b[49m\u001b[43m]\u001b[49m\u001b[43m \u001b[49m\u001b[43m-\u001b[49m\u001b[43m \u001b[49m\u001b[43mdf_scaled\u001b[49m\u001b[43m[\u001b[49m\u001b[43mcolumn\u001b[49m\u001b[43m]\u001b[49m\u001b[43m.\u001b[49m\u001b[43mmedian\u001b[49m\u001b[43m(\u001b[49m\u001b[43m)\u001b[49m\u001b[43m)\u001b[49m\u001b[43m \u001b[49m\n\u001b[32m      6\u001b[39m \u001b[43m        \u001b[49m\u001b[38;5;28;43;01mif\u001b[39;49;00m\u001b[43m \u001b[49m\u001b[43mcolumn\u001b[49m\u001b[43m \u001b[49m\u001b[38;5;129;43;01min\u001b[39;49;00m\u001b[43m \u001b[49m\u001b[43m[\u001b[49m\u001b[33;43m'\u001b[39;49m\u001b[33;43mangebot\u001b[39;49m\u001b[33;43m'\u001b[39;49m\u001b[43m,\u001b[49m\u001b[43m \u001b[49m\u001b[33;43m'\u001b[39;49m\u001b[33;43mpreis_entwicklung\u001b[39;49m\u001b[33;43m'\u001b[39;49m\u001b[43m,\u001b[49m\u001b[43m \u001b[49m\u001b[33;43m'\u001b[39;49m\u001b[33;43mangebot_entwicklung\u001b[39;49m\u001b[33;43m'\u001b[39;49m\u001b[43m,\u001b[49m\u001b[43m \u001b[49m\u001b[33;43m'\u001b[39;49m\u001b[33;43mschule\u001b[39;49m\u001b[33;43m'\u001b[39;49m\u001b[43m,\u001b[49m\u001b[43m \u001b[49m\u001b[33;43m'\u001b[39;49m\u001b[33;43mpendler\u001b[39;49m\u001b[33;43m'\u001b[39;49m\u001b[43m,\u001b[49m\u001b[43m \u001b[49m\u001b[33;43m'\u001b[39;49m\u001b[33;43meinwohner\u001b[39;49m\u001b[33;43m'\u001b[39;49m\u001b[43m]\u001b[49m\u001b[43m \u001b[49m\u001b[38;5;129;43;01mand\u001b[39;49;00m\u001b[43m \u001b[49m\u001b[43mscaled_inputs\u001b[49m\u001b[43m[\u001b[49m\u001b[43mcolumn\u001b[49m\u001b[43m]\u001b[49m\u001b[43m \u001b[49m\u001b[43m==\u001b[49m\u001b[43m \u001b[49m\u001b[32;43m0\u001b[39;49m\u001b[43m \u001b[49m\u001b[38;5;28;43;01melse\u001b[39;49;00m\n\u001b[32m      7\u001b[39m \u001b[43m        \u001b[49m\u001b[43m(\u001b[49m\u001b[43mdf_scaled\u001b[49m\u001b[43m[\u001b[49m\u001b[43mcolumn\u001b[49m\u001b[43m]\u001b[49m\u001b[43m \u001b[49m\u001b[43m-\u001b[49m\u001b[43m \u001b[49m\u001b[43mdf_scaled\u001b[49m\u001b[43m[\u001b[49m\u001b[43mcolumn\u001b[49m\u001b[43m]\u001b[49m\u001b[43m.\u001b[49m\u001b[43mmin\u001b[49m\u001b[43m(\u001b[49m\u001b[43m)\u001b[49m\u001b[43m)\u001b[49m\u001b[43m \u001b[49m\u001b[43m/\u001b[49m\u001b[43m \u001b[49m\u001b[43m-\u001b[49m\u001b[43m(\u001b[49m\u001b[43mdf_scaled\u001b[49m\u001b[43m[\u001b[49m\u001b[43mcolumn\u001b[49m\u001b[43m]\u001b[49m\u001b[43m.\u001b[49m\u001b[43mmin\u001b[49m\u001b[43m(\u001b[49m\u001b[43m)\u001b[49m\u001b[43m)\u001b[49m\u001b[43m  \u001b[49m\n\u001b[32m      8\u001b[39m \u001b[43m        \u001b[49m\u001b[38;5;28;43;01mif\u001b[39;49;00m\u001b[43m \u001b[49m\u001b[43mcolumn\u001b[49m\u001b[43m \u001b[49m\u001b[38;5;129;43;01min\u001b[39;49;00m\u001b[43m \u001b[49m\u001b[43m[\u001b[49m\u001b[33;43m'\u001b[39;49m\u001b[33;43mangebot\u001b[39;49m\u001b[33;43m'\u001b[39;49m\u001b[43m,\u001b[49m\u001b[43m \u001b[49m\u001b[33;43m'\u001b[39;49m\u001b[33;43mpreis_entwicklung\u001b[39;49m\u001b[33;43m'\u001b[39;49m\u001b[43m,\u001b[49m\u001b[43m \u001b[49m\u001b[33;43m'\u001b[39;49m\u001b[33;43mangebot_entwicklung\u001b[39;49m\u001b[33;43m'\u001b[39;49m\u001b[43m,\u001b[49m\u001b[43m \u001b[49m\u001b[33;43m'\u001b[39;49m\u001b[33;43mschule\u001b[39;49m\u001b[33;43m'\u001b[39;49m\u001b[43m,\u001b[49m\u001b[43m \u001b[49m\u001b[33;43m'\u001b[39;49m\u001b[33;43mpendler\u001b[39;49m\u001b[33;43m'\u001b[39;49m\u001b[43m,\u001b[49m\u001b[43m \u001b[49m\u001b[33;43m'\u001b[39;49m\u001b[33;43meinwohner\u001b[39;49m\u001b[33;43m'\u001b[39;49m\u001b[43m]\u001b[49m\u001b[43m \u001b[49m\u001b[38;5;129;43;01mand\u001b[39;49;00m\u001b[43m \u001b[49m\u001b[43mscaled_inputs\u001b[49m\u001b[43m[\u001b[49m\u001b[43mcolumn\u001b[49m\u001b[43m]\u001b[49m\u001b[43m \u001b[49m\u001b[43m==\u001b[49m\u001b[43m \u001b[49m\u001b[43m-\u001b[49m\u001b[32;43m1\u001b[39;49m\u001b[43m \u001b[49m\u001b[38;5;28;43;01melse\u001b[39;49;00m\n\u001b[32m      9\u001b[39m \u001b[43m        \u001b[49m\u001b[43m(\u001b[49m\u001b[43mdf_scaled\u001b[49m\u001b[43m[\u001b[49m\u001b[43mcolumn\u001b[49m\u001b[43m]\u001b[49m\u001b[43m \u001b[49m\u001b[43m-\u001b[49m\u001b[43m \u001b[49m\u001b[43mdf_scaled\u001b[49m\u001b[43m[\u001b[49m\u001b[43mcolumn\u001b[49m\u001b[43m]\u001b[49m\u001b[43m.\u001b[49m\u001b[43mmax\u001b[49m\u001b[43m(\u001b[49m\u001b[43m)\u001b[49m\u001b[43m)\u001b[49m\u001b[43m \u001b[49m\u001b[43m/\u001b[49m\u001b[43m \u001b[49m\u001b[43m-\u001b[49m\u001b[43m(\u001b[49m\u001b[43mdf_scaled\u001b[49m\u001b[43m[\u001b[49m\u001b[43mcolumn\u001b[49m\u001b[43m]\u001b[49m\u001b[43m.\u001b[49m\u001b[43mmax\u001b[49m\u001b[43m(\u001b[49m\u001b[43m)\u001b[49m\u001b[43m)\u001b[49m\u001b[43m  \u001b[49m\n\u001b[32m     10\u001b[39m \u001b[43m        \u001b[49m\u001b[38;5;28;43;01mif\u001b[39;49;00m\u001b[43m \u001b[49m\u001b[43mcolumn\u001b[49m\u001b[43m \u001b[49m\u001b[38;5;129;43;01min\u001b[39;49;00m\u001b[43m \u001b[49m\u001b[43m[\u001b[49m\u001b[33;43m'\u001b[39;49m\u001b[33;43mangebot\u001b[39;49m\u001b[33;43m'\u001b[39;49m\u001b[43m,\u001b[49m\u001b[43m \u001b[49m\u001b[33;43m'\u001b[39;49m\u001b[33;43mpreis_entwicklung\u001b[39;49m\u001b[33;43m'\u001b[39;49m\u001b[43m,\u001b[49m\u001b[43m \u001b[49m\u001b[33;43m'\u001b[39;49m\u001b[33;43mangebot_entwicklung\u001b[39;49m\u001b[33;43m'\u001b[39;49m\u001b[43m,\u001b[49m\u001b[43m \u001b[49m\u001b[33;43m'\u001b[39;49m\u001b[33;43mschule\u001b[39;49m\u001b[33;43m'\u001b[39;49m\u001b[43m,\u001b[49m\u001b[43m \u001b[49m\u001b[33;43m'\u001b[39;49m\u001b[33;43mpendler\u001b[39;49m\u001b[33;43m'\u001b[39;49m\u001b[43m,\u001b[49m\u001b[43m \u001b[49m\u001b[33;43m'\u001b[39;49m\u001b[33;43meinwohner\u001b[39;49m\u001b[33;43m'\u001b[39;49m\u001b[43m]\u001b[49m\u001b[43m \u001b[49m\u001b[38;5;129;43;01mand\u001b[39;49;00m\u001b[43m \u001b[49m\u001b[43mscaled_inputs\u001b[49m\u001b[43m[\u001b[49m\u001b[43mcolumn\u001b[49m\u001b[43m]\u001b[49m\u001b[43m \u001b[49m\u001b[43m==\u001b[49m\u001b[43m \u001b[49m\u001b[32;43m1\u001b[39;49m\u001b[43m \u001b[49m\u001b[38;5;28;43;01melse\u001b[39;49;00m\n\u001b[32m     11\u001b[39m \u001b[43m        \u001b[49m\u001b[38;5;66;43;03m# Standardberechnung für andere Spalten\u001b[39;49;00m\n\u001b[32m     12\u001b[39m \u001b[43m        \u001b[49m\u001b[38;5;28;43mabs\u001b[39;49m\u001b[43m(\u001b[49m\u001b[43m(\u001b[49m\u001b[43mdf_scaled\u001b[49m\u001b[43m[\u001b[49m\u001b[43mcolumn\u001b[49m\u001b[43m]\u001b[49m\u001b[43m \u001b[49m\u001b[43m-\u001b[49m\u001b[43m \u001b[49m\u001b[43mscaled_inputs\u001b[49m\u001b[43m[\u001b[49m\u001b[43mcolumn\u001b[49m\u001b[43m]\u001b[49m\u001b[43m)\u001b[49m\u001b[43m)\u001b[49m\u001b[43m \u001b[49m\u001b[43m/\u001b[49m\u001b[43m \u001b[49m\u001b[43m-\u001b[49m\u001b[43m(\u001b[49m\u001b[43mscaled_inputs\u001b[49m\u001b[43m[\u001b[49m\u001b[43mcolumn\u001b[49m\u001b[43m]\u001b[49m\u001b[43m)\u001b[49m\n\u001b[32m     13\u001b[39m \u001b[43m    \u001b[49m\u001b[43m)\u001b[49m\n\u001b[32m     14\u001b[39m \u001b[43m    \u001b[49m\u001b[38;5;28;43;01mfor\u001b[39;49;00m\u001b[43m \u001b[49m\u001b[43mcolumn\u001b[49m\u001b[43m \u001b[49m\u001b[38;5;129;43;01min\u001b[39;49;00m\u001b[43m \u001b[49m\u001b[43mscaled_inputs\u001b[49m\n\u001b[32m     15\u001b[39m \u001b[43m)\u001b[49m / anzahl_der_inputs\n\u001b[32m     17\u001b[39m \u001b[38;5;66;03m# Min-Max-Normalisierung des Scores\u001b[39;00m\n\u001b[32m     18\u001b[39m score_min = df_scaled[\u001b[33m'\u001b[39m\u001b[33mscore\u001b[39m\u001b[33m'\u001b[39m].min()\n",
      "\u001b[36mCell\u001b[39m\u001b[36m \u001b[39m\u001b[32mIn[47]\u001b[39m\u001b[32m, line 12\u001b[39m, in \u001b[36m<genexpr>\u001b[39m\u001b[34m(.0)\u001b[39m\n\u001b[32m      1\u001b[39m \u001b[38;5;66;03m# Formel anwenden\u001b[39;00m\n\u001b[32m      2\u001b[39m df_scaled[\u001b[33m'\u001b[39m\u001b[33mscore\u001b[39m\u001b[33m'\u001b[39m] = \u001b[32m1\u001b[39m - \u001b[38;5;28msum\u001b[39m(\n\u001b[32m      3\u001b[39m     (\n\u001b[32m      4\u001b[39m         \u001b[38;5;66;03m# Sonderbehandlung für die Spalten 'schule' und 'pendler'\u001b[39;00m\n\u001b[32m      5\u001b[39m         \u001b[38;5;28mabs\u001b[39m(df_scaled[column] - df_scaled[column].median()) \n\u001b[32m      6\u001b[39m         \u001b[38;5;28;01mif\u001b[39;00m column \u001b[38;5;129;01min\u001b[39;00m [\u001b[33m'\u001b[39m\u001b[33mangebot\u001b[39m\u001b[33m'\u001b[39m, \u001b[33m'\u001b[39m\u001b[33mpreis_entwicklung\u001b[39m\u001b[33m'\u001b[39m, \u001b[33m'\u001b[39m\u001b[33mangebot_entwicklung\u001b[39m\u001b[33m'\u001b[39m, \u001b[33m'\u001b[39m\u001b[33mschule\u001b[39m\u001b[33m'\u001b[39m, \u001b[33m'\u001b[39m\u001b[33mpendler\u001b[39m\u001b[33m'\u001b[39m, \u001b[33m'\u001b[39m\u001b[33meinwohner\u001b[39m\u001b[33m'\u001b[39m] \u001b[38;5;129;01mand\u001b[39;00m scaled_inputs[column] == \u001b[32m0\u001b[39m \u001b[38;5;28;01melse\u001b[39;00m\n\u001b[32m      7\u001b[39m         (df_scaled[column] - df_scaled[column].min()) / -(df_scaled[column].min())  \n\u001b[32m      8\u001b[39m         \u001b[38;5;28;01mif\u001b[39;00m column \u001b[38;5;129;01min\u001b[39;00m [\u001b[33m'\u001b[39m\u001b[33mangebot\u001b[39m\u001b[33m'\u001b[39m, \u001b[33m'\u001b[39m\u001b[33mpreis_entwicklung\u001b[39m\u001b[33m'\u001b[39m, \u001b[33m'\u001b[39m\u001b[33mangebot_entwicklung\u001b[39m\u001b[33m'\u001b[39m, \u001b[33m'\u001b[39m\u001b[33mschule\u001b[39m\u001b[33m'\u001b[39m, \u001b[33m'\u001b[39m\u001b[33mpendler\u001b[39m\u001b[33m'\u001b[39m, \u001b[33m'\u001b[39m\u001b[33meinwohner\u001b[39m\u001b[33m'\u001b[39m] \u001b[38;5;129;01mand\u001b[39;00m scaled_inputs[column] == -\u001b[32m1\u001b[39m \u001b[38;5;28;01melse\u001b[39;00m\n\u001b[32m      9\u001b[39m         (df_scaled[column] - df_scaled[column].max()) / -(df_scaled[column].max())  \n\u001b[32m     10\u001b[39m         \u001b[38;5;28;01mif\u001b[39;00m column \u001b[38;5;129;01min\u001b[39;00m [\u001b[33m'\u001b[39m\u001b[33mangebot\u001b[39m\u001b[33m'\u001b[39m, \u001b[33m'\u001b[39m\u001b[33mpreis_entwicklung\u001b[39m\u001b[33m'\u001b[39m, \u001b[33m'\u001b[39m\u001b[33mangebot_entwicklung\u001b[39m\u001b[33m'\u001b[39m, \u001b[33m'\u001b[39m\u001b[33mschule\u001b[39m\u001b[33m'\u001b[39m, \u001b[33m'\u001b[39m\u001b[33mpendler\u001b[39m\u001b[33m'\u001b[39m, \u001b[33m'\u001b[39m\u001b[33meinwohner\u001b[39m\u001b[33m'\u001b[39m] \u001b[38;5;129;01mand\u001b[39;00m scaled_inputs[column] == \u001b[32m1\u001b[39m \u001b[38;5;28;01melse\u001b[39;00m\n\u001b[32m     11\u001b[39m         \u001b[38;5;66;03m# Standardberechnung für andere Spalten\u001b[39;00m\n\u001b[32m---> \u001b[39m\u001b[32m12\u001b[39m         \u001b[38;5;28mabs\u001b[39m((\u001b[43mdf_scaled\u001b[49m\u001b[43m[\u001b[49m\u001b[43mcolumn\u001b[49m\u001b[43m]\u001b[49m\u001b[43m \u001b[49m\u001b[43m-\u001b[49m\u001b[43m \u001b[49m\u001b[43mscaled_inputs\u001b[49m\u001b[43m[\u001b[49m\u001b[43mcolumn\u001b[49m\u001b[43m]\u001b[49m)) / -(scaled_inputs[column])\n\u001b[32m     13\u001b[39m     )\n\u001b[32m     14\u001b[39m     \u001b[38;5;28;01mfor\u001b[39;00m column \u001b[38;5;129;01min\u001b[39;00m scaled_inputs\n\u001b[32m     15\u001b[39m ) / anzahl_der_inputs\n\u001b[32m     17\u001b[39m \u001b[38;5;66;03m# Min-Max-Normalisierung des Scores\u001b[39;00m\n\u001b[32m     18\u001b[39m score_min = df_scaled[\u001b[33m'\u001b[39m\u001b[33mscore\u001b[39m\u001b[33m'\u001b[39m].min()\n",
      "\u001b[36mFile \u001b[39m\u001b[32m~/.pyenv/versions/3.11.3/lib/python3.11/site-packages/pandas/core/ops/common.py:76\u001b[39m, in \u001b[36m_unpack_zerodim_and_defer.<locals>.new_method\u001b[39m\u001b[34m(self, other)\u001b[39m\n\u001b[32m     72\u001b[39m             \u001b[38;5;28;01mreturn\u001b[39;00m \u001b[38;5;28mNotImplemented\u001b[39m\n\u001b[32m     74\u001b[39m other = item_from_zerodim(other)\n\u001b[32m---> \u001b[39m\u001b[32m76\u001b[39m \u001b[38;5;28;01mreturn\u001b[39;00m \u001b[43mmethod\u001b[49m\u001b[43m(\u001b[49m\u001b[38;5;28;43mself\u001b[39;49m\u001b[43m,\u001b[49m\u001b[43m \u001b[49m\u001b[43mother\u001b[49m\u001b[43m)\u001b[49m\n",
      "\u001b[36mFile \u001b[39m\u001b[32m~/.pyenv/versions/3.11.3/lib/python3.11/site-packages/pandas/core/arraylike.py:194\u001b[39m, in \u001b[36mOpsMixin.__sub__\u001b[39m\u001b[34m(self, other)\u001b[39m\n\u001b[32m    192\u001b[39m \u001b[38;5;129m@unpack_zerodim_and_defer\u001b[39m(\u001b[33m\"\u001b[39m\u001b[33m__sub__\u001b[39m\u001b[33m\"\u001b[39m)\n\u001b[32m    193\u001b[39m \u001b[38;5;28;01mdef\u001b[39;00m\u001b[38;5;250m \u001b[39m\u001b[34m__sub__\u001b[39m(\u001b[38;5;28mself\u001b[39m, other):\n\u001b[32m--> \u001b[39m\u001b[32m194\u001b[39m     \u001b[38;5;28;01mreturn\u001b[39;00m \u001b[38;5;28;43mself\u001b[39;49m\u001b[43m.\u001b[49m\u001b[43m_arith_method\u001b[49m\u001b[43m(\u001b[49m\u001b[43mother\u001b[49m\u001b[43m,\u001b[49m\u001b[43m \u001b[49m\u001b[43moperator\u001b[49m\u001b[43m.\u001b[49m\u001b[43msub\u001b[49m\u001b[43m)\u001b[49m\n",
      "\u001b[36mFile \u001b[39m\u001b[32m~/.pyenv/versions/3.11.3/lib/python3.11/site-packages/pandas/core/series.py:6146\u001b[39m, in \u001b[36mSeries._arith_method\u001b[39m\u001b[34m(self, other, op)\u001b[39m\n\u001b[32m   6144\u001b[39m \u001b[38;5;28;01mdef\u001b[39;00m\u001b[38;5;250m \u001b[39m\u001b[34m_arith_method\u001b[39m(\u001b[38;5;28mself\u001b[39m, other, op):\n\u001b[32m   6145\u001b[39m     \u001b[38;5;28mself\u001b[39m, other = \u001b[38;5;28mself\u001b[39m._align_for_op(other)\n\u001b[32m-> \u001b[39m\u001b[32m6146\u001b[39m     \u001b[38;5;28;01mreturn\u001b[39;00m \u001b[43mbase\u001b[49m\u001b[43m.\u001b[49m\u001b[43mIndexOpsMixin\u001b[49m\u001b[43m.\u001b[49m\u001b[43m_arith_method\u001b[49m\u001b[43m(\u001b[49m\u001b[38;5;28;43mself\u001b[39;49m\u001b[43m,\u001b[49m\u001b[43m \u001b[49m\u001b[43mother\u001b[49m\u001b[43m,\u001b[49m\u001b[43m \u001b[49m\u001b[43mop\u001b[49m\u001b[43m)\u001b[49m\n",
      "\u001b[36mFile \u001b[39m\u001b[32m~/.pyenv/versions/3.11.3/lib/python3.11/site-packages/pandas/core/base.py:1391\u001b[39m, in \u001b[36mIndexOpsMixin._arith_method\u001b[39m\u001b[34m(self, other, op)\u001b[39m\n\u001b[32m   1388\u001b[39m     rvalues = np.arange(rvalues.start, rvalues.stop, rvalues.step)\n\u001b[32m   1390\u001b[39m \u001b[38;5;28;01mwith\u001b[39;00m np.errstate(\u001b[38;5;28mall\u001b[39m=\u001b[33m\"\u001b[39m\u001b[33mignore\u001b[39m\u001b[33m\"\u001b[39m):\n\u001b[32m-> \u001b[39m\u001b[32m1391\u001b[39m     result = \u001b[43mops\u001b[49m\u001b[43m.\u001b[49m\u001b[43marithmetic_op\u001b[49m\u001b[43m(\u001b[49m\u001b[43mlvalues\u001b[49m\u001b[43m,\u001b[49m\u001b[43m \u001b[49m\u001b[43mrvalues\u001b[49m\u001b[43m,\u001b[49m\u001b[43m \u001b[49m\u001b[43mop\u001b[49m\u001b[43m)\u001b[49m\n\u001b[32m   1393\u001b[39m \u001b[38;5;28;01mreturn\u001b[39;00m \u001b[38;5;28mself\u001b[39m._construct_result(result, name=res_name)\n",
      "\u001b[36mFile \u001b[39m\u001b[32m~/.pyenv/versions/3.11.3/lib/python3.11/site-packages/pandas/core/ops/array_ops.py:283\u001b[39m, in \u001b[36marithmetic_op\u001b[39m\u001b[34m(left, right, op)\u001b[39m\n\u001b[32m    279\u001b[39m     _bool_arith_check(op, left, right)  \u001b[38;5;66;03m# type: ignore[arg-type]\u001b[39;00m\n\u001b[32m    281\u001b[39m     \u001b[38;5;66;03m# error: Argument 1 to \"_na_arithmetic_op\" has incompatible type\u001b[39;00m\n\u001b[32m    282\u001b[39m     \u001b[38;5;66;03m# \"Union[ExtensionArray, ndarray[Any, Any]]\"; expected \"ndarray[Any, Any]\"\u001b[39;00m\n\u001b[32m--> \u001b[39m\u001b[32m283\u001b[39m     res_values = \u001b[43m_na_arithmetic_op\u001b[49m\u001b[43m(\u001b[49m\u001b[43mleft\u001b[49m\u001b[43m,\u001b[49m\u001b[43m \u001b[49m\u001b[43mright\u001b[49m\u001b[43m,\u001b[49m\u001b[43m \u001b[49m\u001b[43mop\u001b[49m\u001b[43m)\u001b[49m  \u001b[38;5;66;03m# type: ignore[arg-type]\u001b[39;00m\n\u001b[32m    285\u001b[39m \u001b[38;5;28;01mreturn\u001b[39;00m res_values\n",
      "\u001b[36mFile \u001b[39m\u001b[32m~/.pyenv/versions/3.11.3/lib/python3.11/site-packages/pandas/core/ops/array_ops.py:218\u001b[39m, in \u001b[36m_na_arithmetic_op\u001b[39m\u001b[34m(left, right, op, is_cmp)\u001b[39m\n\u001b[32m    215\u001b[39m     func = partial(expressions.evaluate, op)\n\u001b[32m    217\u001b[39m \u001b[38;5;28;01mtry\u001b[39;00m:\n\u001b[32m--> \u001b[39m\u001b[32m218\u001b[39m     result = \u001b[43mfunc\u001b[49m\u001b[43m(\u001b[49m\u001b[43mleft\u001b[49m\u001b[43m,\u001b[49m\u001b[43m \u001b[49m\u001b[43mright\u001b[49m\u001b[43m)\u001b[49m\n\u001b[32m    219\u001b[39m \u001b[38;5;28;01mexcept\u001b[39;00m \u001b[38;5;167;01mTypeError\u001b[39;00m:\n\u001b[32m    220\u001b[39m     \u001b[38;5;28;01mif\u001b[39;00m \u001b[38;5;129;01mnot\u001b[39;00m is_cmp \u001b[38;5;129;01mand\u001b[39;00m (\n\u001b[32m    221\u001b[39m         left.dtype == \u001b[38;5;28mobject\u001b[39m \u001b[38;5;129;01mor\u001b[39;00m \u001b[38;5;28mgetattr\u001b[39m(right, \u001b[33m\"\u001b[39m\u001b[33mdtype\u001b[39m\u001b[33m\"\u001b[39m, \u001b[38;5;28;01mNone\u001b[39;00m) == \u001b[38;5;28mobject\u001b[39m\n\u001b[32m    222\u001b[39m     ):\n\u001b[32m   (...)\u001b[39m\u001b[32m    225\u001b[39m         \u001b[38;5;66;03m# Don't do this for comparisons, as that will handle complex numbers\u001b[39;00m\n\u001b[32m    226\u001b[39m         \u001b[38;5;66;03m#  incorrectly, see GH#32047\u001b[39;00m\n",
      "\u001b[36mFile \u001b[39m\u001b[32m~/.pyenv/versions/3.11.3/lib/python3.11/site-packages/pandas/core/computation/expressions.py:242\u001b[39m, in \u001b[36mevaluate\u001b[39m\u001b[34m(op, a, b, use_numexpr)\u001b[39m\n\u001b[32m    239\u001b[39m \u001b[38;5;28;01mif\u001b[39;00m op_str \u001b[38;5;129;01mis\u001b[39;00m \u001b[38;5;129;01mnot\u001b[39;00m \u001b[38;5;28;01mNone\u001b[39;00m:\n\u001b[32m    240\u001b[39m     \u001b[38;5;28;01mif\u001b[39;00m use_numexpr:\n\u001b[32m    241\u001b[39m         \u001b[38;5;66;03m# error: \"None\" not callable\u001b[39;00m\n\u001b[32m--> \u001b[39m\u001b[32m242\u001b[39m         \u001b[38;5;28;01mreturn\u001b[39;00m \u001b[43m_evaluate\u001b[49m\u001b[43m(\u001b[49m\u001b[43mop\u001b[49m\u001b[43m,\u001b[49m\u001b[43m \u001b[49m\u001b[43mop_str\u001b[49m\u001b[43m,\u001b[49m\u001b[43m \u001b[49m\u001b[43ma\u001b[49m\u001b[43m,\u001b[49m\u001b[43m \u001b[49m\u001b[43mb\u001b[49m\u001b[43m)\u001b[49m  \u001b[38;5;66;03m# type: ignore[misc]\u001b[39;00m\n\u001b[32m    243\u001b[39m \u001b[38;5;28;01mreturn\u001b[39;00m _evaluate_standard(op, op_str, a, b)\n",
      "\u001b[36mFile \u001b[39m\u001b[32m~/.pyenv/versions/3.11.3/lib/python3.11/site-packages/pandas/core/computation/expressions.py:73\u001b[39m, in \u001b[36m_evaluate_standard\u001b[39m\u001b[34m(op, op_str, a, b)\u001b[39m\n\u001b[32m     71\u001b[39m \u001b[38;5;28;01mif\u001b[39;00m _TEST_MODE:\n\u001b[32m     72\u001b[39m     _store_test_result(\u001b[38;5;28;01mFalse\u001b[39;00m)\n\u001b[32m---> \u001b[39m\u001b[32m73\u001b[39m \u001b[38;5;28;01mreturn\u001b[39;00m op(a, b)\n",
      "\u001b[31mValueError\u001b[39m: operands could not be broadcast together with shapes (85,) (2,) "
     ]
    }
   ],
   "source": [
    "# Formel anwenden\n",
    "df_scaled['score'] = 1 - sum(\n",
    "    (\n",
    "        # Sonderbehandlung für die Spalten 'schule' und 'pendler'\n",
    "        abs(df_scaled[column] - df_scaled[column].median()) \n",
    "        if column in ['angebot', 'preis_entwicklung', 'angebot_entwicklung', 'schule', 'pendler', 'einwohner'] and scaled_inputs[column] == 0 else\n",
    "        (df_scaled[column] - df_scaled[column].min()) / -(df_scaled[column].min())  \n",
    "        if column in ['angebot', 'preis_entwicklung', 'angebot_entwicklung', 'schule', 'pendler', 'einwohner'] and scaled_inputs[column] == -1 else\n",
    "        (df_scaled[column] - df_scaled[column].max()) / -(df_scaled[column].max())  \n",
    "        if column in ['angebot', 'preis_entwicklung', 'angebot_entwicklung', 'schule', 'pendler', 'einwohner'] and scaled_inputs[column] == 1 else\n",
    "        # Standardberechnung für andere Spalten\n",
    "        abs((df_scaled[column] - scaled_inputs[column])) / -(scaled_inputs[column])\n",
    "    )\n",
    "    for column in scaled_inputs\n",
    ") / anzahl_der_inputs\n",
    "\n",
    "# Min-Max-Normalisierung des Scores\n",
    "score_min = df_scaled['score'].min()\n",
    "score_max = df_scaled['score'].max()\n",
    "df_scaled['score_normalized'] = (df_scaled['score'] - score_min) / (score_max - score_min)\n",
    "\n",
    "# Ergebnis anzeigen\n",
    "df_scaled[['id', 'supermarkt', 'score', 'score_normalized']].head()"
   ]
  },
  {
   "cell_type": "code",
   "execution_count": 30,
   "metadata": {},
   "outputs": [
    {
     "data": {
      "text/plain": [
       "np.float64(-0.2540378268218437)"
      ]
     },
     "execution_count": 30,
     "metadata": {},
     "output_type": "execute_result"
    }
   ],
   "source": [
    "original_mean = df['angebot_entwicklung'].mean()\n",
    "original_mean"
   ]
  }
 ],
 "metadata": {
  "kernelspec": {
   "display_name": "3.11.3",
   "language": "python",
   "name": "python3"
  },
  "language_info": {
   "codemirror_mode": {
    "name": "ipython",
    "version": 3
   },
   "file_extension": ".py",
   "mimetype": "text/x-python",
   "name": "python",
   "nbconvert_exporter": "python",
   "pygments_lexer": "ipython3",
   "version": "3.11.3"
  }
 },
 "nbformat": 4,
 "nbformat_minor": 2
}
